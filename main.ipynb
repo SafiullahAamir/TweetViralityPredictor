{
 "cells": [
  {
   "cell_type": "markdown",
   "id": "87268a10-9d82-451a-bae8-dd05c7b2fa0f",
   "metadata": {},
   "source": [
    "# 📝 Project: Tweet Virality Prediction (ML)"
   ]
  },
  {
   "cell_type": "code",
   "execution_count": 2,
   "id": "2cec042e-fc81-49fd-b94a-c2b80f9e1a82",
   "metadata": {},
   "outputs": [],
   "source": [
    "# Setup & Load Libraries\n",
    "\n",
    "import pandas as pd\n",
    "import numpy as np\n",
    "import matplotlib.pyplot as plt\n",
    "import seaborn as sns\n",
    "\n",
    "from sklearn.model_selection import train_test_split\n",
    "from sklearn.feature_extraction.text import TfidfVectorizer\n",
    "from sklearn.linear_model import LogisticRegression\n",
    "from sklearn.metrics import classification_report, confusion_matrix\n"
   ]
  }
 ],
 "metadata": {
  "kernelspec": {
   "display_name": "Python [conda env:py310env]",
   "language": "python",
   "name": "conda-env-py310env-py"
  },
  "language_info": {
   "codemirror_mode": {
    "name": "ipython",
    "version": 3
   },
   "file_extension": ".py",
   "mimetype": "text/x-python",
   "name": "python",
   "nbconvert_exporter": "python",
   "pygments_lexer": "ipython3",
   "version": "3.10.16"
  }
 },
 "nbformat": 4,
 "nbformat_minor": 5
}
